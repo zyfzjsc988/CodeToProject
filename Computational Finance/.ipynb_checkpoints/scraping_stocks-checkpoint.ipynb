{
 "cells": [
  {
   "cell_type": "markdown",
   "metadata": {},
   "source": [
    "# scraping FTSE30 data"
   ]
  },
  {
   "cell_type": "markdown",
   "metadata": {},
   "source": [
    "## 一、构建类获取股票交易数据\n",
    "数据API: https://www.alphavantage.co/documentation/  API KEY:34A4VP32WLWXG9WG\n",
    "\n",
    "由于这个API的python版document写的不详细，因此我们选择自己解析获取到的数据并且使用pandas处理\n",
    "### 从网上读取数据，选择想要的股票数据，将json数据格式解析成pandas Frame 用于后续计算"
   ]
  },
  {
   "cell_type": "code",
   "execution_count": 1,
   "metadata": {
    "collapsed": true
   },
   "outputs": [],
   "source": [
    "import urllib3\n",
    "import json\n",
    "import pandas as pd\n",
    "class Stock(object):\n",
    "    def __init__(self):\n",
    "        self.api_address = \"https://www.alphavantage.co/\"\n",
    "        self.key = \"34A4VP32WLWXG9WG\"\n",
    "        #       首先根据urllib3的文档，建立http连接池\n",
    "        self.http = urllib3.PoolManager()\n",
    "        \n",
    "#   以日为单位，获取交易信息记录，输入 股票symbols(列表)， 返回近20年的股票记录\n",
    "    def stocks_daily_query(self, symbols):\n",
    "        \n",
    "#       init 总的dataFrame作为返回值，假定行表示股票名，列是时间，数据是close price\n",
    "        stock_frame = pd.DataFrame()\n",
    "        \n",
    "\n",
    "#       定义function为TIME_SERIES_DAILY 表示以日为单位查询\n",
    "        function = \"TIME_SERIES_DAILY\"\n",
    "    \n",
    "    \n",
    "#       循环开始：遍历所有的symbols,  股票名为symbol\n",
    "        for symbol in symbols:\n",
    "#           动态构建获取数据的地址 web_address \n",
    "#           地址格式如同 https://www.alphavantage.co/query?function=TIME_SERIES_DAILY&symbol=MSFT&apikey=demo\n",
    "#             web_address = \"%squery?function=%s&symbol=%s&apikey=%s\"    % (self.api_address, function, symbol,self.key)\n",
    "            web_address = \"%squery?function=%s&symbol=%s&outputsize=full&apikey=%s\"    % (self.api_address, function, symbol,self.key)\n",
    "#           使用http.request请求页面\n",
    "            r = self.http.request('GET', web_address)\n",
    "#           请求得到的r.data是byte格式，先转换成str 再使用 json 格式保存\n",
    "            j = json.loads(r.data.decode('utf-8'))\n",
    "            if len(j)>=2:\n",
    "#                 print(j)\n",
    "    #           这个字段中只有time series (Daily)的信息有用，将其中的信息取出,并将格式从dict转换成str\n",
    "                d = json.dumps(j[\"Time Series (Daily)\"])\n",
    "\n",
    "    #           构建 pandas dataFrame来存储数据\n",
    "                df = pd.read_json(d, orient='index')\n",
    "    #           需要close价格，取出该列。并改名\n",
    "                close_price = df.loc[:,['4. close']]\n",
    "                close_price.columns = [\"%s_price\" % symbol]\n",
    "    #           将该列加入到总的stock_frame中\n",
    "                stock_frame = pd.concat([stock_frame,close_price],axis=1)\n",
    "    #           需要volume总量取出该列。并改名\n",
    "                volume = df.loc[:,['5. volume']]\n",
    "                volume.columns = [\"%s_volume\" % symbol]\n",
    "    #           将该列加入到总的stock_frame中\n",
    "                stock_frame = pd.concat([stock_frame,volume],axis=1)\n",
    "    \n",
    "        \n",
    "        return stock_frame"
   ]
  },
  {
   "cell_type": "code",
   "execution_count": 2,
   "metadata": {
    "collapsed": false
   },
   "outputs": [
    {
     "name": "stderr",
     "output_type": "stream",
     "text": [
      "C:\\Users\\surface\\Anaconda2\\envs\\tensorflow\\lib\\site-packages\\urllib3\\connectionpool.py:858: InsecureRequestWarning: Unverified HTTPS request is being made. Adding certificate verification is strongly advised. See: https://urllib3.readthedocs.io/en/latest/advanced-usage.html#ssl-warnings\n",
      "  InsecureRequestWarning)\n",
      "C:\\Users\\surface\\Anaconda2\\envs\\tensorflow\\lib\\site-packages\\urllib3\\connectionpool.py:858: InsecureRequestWarning: Unverified HTTPS request is being made. Adding certificate verification is strongly advised. See: https://urllib3.readthedocs.io/en/latest/advanced-usage.html#ssl-warnings\n",
      "  InsecureRequestWarning)\n",
      "C:\\Users\\surface\\Anaconda2\\envs\\tensorflow\\lib\\site-packages\\urllib3\\connectionpool.py:858: InsecureRequestWarning: Unverified HTTPS request is being made. Adding certificate verification is strongly advised. See: https://urllib3.readthedocs.io/en/latest/advanced-usage.html#ssl-warnings\n",
      "  InsecureRequestWarning)\n",
      "C:\\Users\\surface\\Anaconda2\\envs\\tensorflow\\lib\\site-packages\\urllib3\\connectionpool.py:858: InsecureRequestWarning: Unverified HTTPS request is being made. Adding certificate verification is strongly advised. See: https://urllib3.readthedocs.io/en/latest/advanced-usage.html#ssl-warnings\n",
      "  InsecureRequestWarning)\n",
      "C:\\Users\\surface\\Anaconda2\\envs\\tensorflow\\lib\\site-packages\\urllib3\\connectionpool.py:858: InsecureRequestWarning: Unverified HTTPS request is being made. Adding certificate verification is strongly advised. See: https://urllib3.readthedocs.io/en/latest/advanced-usage.html#ssl-warnings\n",
      "  InsecureRequestWarning)\n",
      "C:\\Users\\surface\\Anaconda2\\envs\\tensorflow\\lib\\site-packages\\urllib3\\connectionpool.py:858: InsecureRequestWarning: Unverified HTTPS request is being made. Adding certificate verification is strongly advised. See: https://urllib3.readthedocs.io/en/latest/advanced-usage.html#ssl-warnings\n",
      "  InsecureRequestWarning)\n",
      "C:\\Users\\surface\\Anaconda2\\envs\\tensorflow\\lib\\site-packages\\urllib3\\connectionpool.py:858: InsecureRequestWarning: Unverified HTTPS request is being made. Adding certificate verification is strongly advised. See: https://urllib3.readthedocs.io/en/latest/advanced-usage.html#ssl-warnings\n",
      "  InsecureRequestWarning)\n",
      "C:\\Users\\surface\\Anaconda2\\envs\\tensorflow\\lib\\site-packages\\urllib3\\connectionpool.py:858: InsecureRequestWarning: Unverified HTTPS request is being made. Adding certificate verification is strongly advised. See: https://urllib3.readthedocs.io/en/latest/advanced-usage.html#ssl-warnings\n",
      "  InsecureRequestWarning)\n",
      "C:\\Users\\surface\\Anaconda2\\envs\\tensorflow\\lib\\site-packages\\urllib3\\connectionpool.py:858: InsecureRequestWarning: Unverified HTTPS request is being made. Adding certificate verification is strongly advised. See: https://urllib3.readthedocs.io/en/latest/advanced-usage.html#ssl-warnings\n",
      "  InsecureRequestWarning)\n",
      "C:\\Users\\surface\\Anaconda2\\envs\\tensorflow\\lib\\site-packages\\urllib3\\connectionpool.py:858: InsecureRequestWarning: Unverified HTTPS request is being made. Adding certificate verification is strongly advised. See: https://urllib3.readthedocs.io/en/latest/advanced-usage.html#ssl-warnings\n",
      "  InsecureRequestWarning)\n",
      "C:\\Users\\surface\\Anaconda2\\envs\\tensorflow\\lib\\site-packages\\urllib3\\connectionpool.py:858: InsecureRequestWarning: Unverified HTTPS request is being made. Adding certificate verification is strongly advised. See: https://urllib3.readthedocs.io/en/latest/advanced-usage.html#ssl-warnings\n",
      "  InsecureRequestWarning)\n",
      "C:\\Users\\surface\\Anaconda2\\envs\\tensorflow\\lib\\site-packages\\urllib3\\connectionpool.py:858: InsecureRequestWarning: Unverified HTTPS request is being made. Adding certificate verification is strongly advised. See: https://urllib3.readthedocs.io/en/latest/advanced-usage.html#ssl-warnings\n",
      "  InsecureRequestWarning)\n",
      "C:\\Users\\surface\\Anaconda2\\envs\\tensorflow\\lib\\site-packages\\urllib3\\connectionpool.py:858: InsecureRequestWarning: Unverified HTTPS request is being made. Adding certificate verification is strongly advised. See: https://urllib3.readthedocs.io/en/latest/advanced-usage.html#ssl-warnings\n",
      "  InsecureRequestWarning)\n",
      "C:\\Users\\surface\\Anaconda2\\envs\\tensorflow\\lib\\site-packages\\urllib3\\connectionpool.py:858: InsecureRequestWarning: Unverified HTTPS request is being made. Adding certificate verification is strongly advised. See: https://urllib3.readthedocs.io/en/latest/advanced-usage.html#ssl-warnings\n",
      "  InsecureRequestWarning)\n",
      "C:\\Users\\surface\\Anaconda2\\envs\\tensorflow\\lib\\site-packages\\urllib3\\connectionpool.py:858: InsecureRequestWarning: Unverified HTTPS request is being made. Adding certificate verification is strongly advised. See: https://urllib3.readthedocs.io/en/latest/advanced-usage.html#ssl-warnings\n",
      "  InsecureRequestWarning)\n",
      "C:\\Users\\surface\\Anaconda2\\envs\\tensorflow\\lib\\site-packages\\urllib3\\connectionpool.py:858: InsecureRequestWarning: Unverified HTTPS request is being made. Adding certificate verification is strongly advised. See: https://urllib3.readthedocs.io/en/latest/advanced-usage.html#ssl-warnings\n",
      "  InsecureRequestWarning)\n",
      "C:\\Users\\surface\\Anaconda2\\envs\\tensorflow\\lib\\site-packages\\urllib3\\connectionpool.py:858: InsecureRequestWarning: Unverified HTTPS request is being made. Adding certificate verification is strongly advised. See: https://urllib3.readthedocs.io/en/latest/advanced-usage.html#ssl-warnings\n",
      "  InsecureRequestWarning)\n",
      "C:\\Users\\surface\\Anaconda2\\envs\\tensorflow\\lib\\site-packages\\urllib3\\connectionpool.py:858: InsecureRequestWarning: Unverified HTTPS request is being made. Adding certificate verification is strongly advised. See: https://urllib3.readthedocs.io/en/latest/advanced-usage.html#ssl-warnings\n",
      "  InsecureRequestWarning)\n",
      "C:\\Users\\surface\\Anaconda2\\envs\\tensorflow\\lib\\site-packages\\urllib3\\connectionpool.py:858: InsecureRequestWarning: Unverified HTTPS request is being made. Adding certificate verification is strongly advised. See: https://urllib3.readthedocs.io/en/latest/advanced-usage.html#ssl-warnings\n",
      "  InsecureRequestWarning)\n",
      "C:\\Users\\surface\\Anaconda2\\envs\\tensorflow\\lib\\site-packages\\urllib3\\connectionpool.py:858: InsecureRequestWarning: Unverified HTTPS request is being made. Adding certificate verification is strongly advised. See: https://urllib3.readthedocs.io/en/latest/advanced-usage.html#ssl-warnings\n",
      "  InsecureRequestWarning)\n",
      "C:\\Users\\surface\\Anaconda2\\envs\\tensorflow\\lib\\site-packages\\urllib3\\connectionpool.py:858: InsecureRequestWarning: Unverified HTTPS request is being made. Adding certificate verification is strongly advised. See: https://urllib3.readthedocs.io/en/latest/advanced-usage.html#ssl-warnings\n",
      "  InsecureRequestWarning)\n",
      "C:\\Users\\surface\\Anaconda2\\envs\\tensorflow\\lib\\site-packages\\urllib3\\connectionpool.py:858: InsecureRequestWarning: Unverified HTTPS request is being made. Adding certificate verification is strongly advised. See: https://urllib3.readthedocs.io/en/latest/advanced-usage.html#ssl-warnings\n",
      "  InsecureRequestWarning)\n",
      "C:\\Users\\surface\\Anaconda2\\envs\\tensorflow\\lib\\site-packages\\urllib3\\connectionpool.py:858: InsecureRequestWarning: Unverified HTTPS request is being made. Adding certificate verification is strongly advised. See: https://urllib3.readthedocs.io/en/latest/advanced-usage.html#ssl-warnings\n",
      "  InsecureRequestWarning)\n",
      "C:\\Users\\surface\\Anaconda2\\envs\\tensorflow\\lib\\site-packages\\urllib3\\connectionpool.py:858: InsecureRequestWarning: Unverified HTTPS request is being made. Adding certificate verification is strongly advised. See: https://urllib3.readthedocs.io/en/latest/advanced-usage.html#ssl-warnings\n",
      "  InsecureRequestWarning)\n",
      "C:\\Users\\surface\\Anaconda2\\envs\\tensorflow\\lib\\site-packages\\urllib3\\connectionpool.py:858: InsecureRequestWarning: Unverified HTTPS request is being made. Adding certificate verification is strongly advised. See: https://urllib3.readthedocs.io/en/latest/advanced-usage.html#ssl-warnings\n",
      "  InsecureRequestWarning)\n",
      "C:\\Users\\surface\\Anaconda2\\envs\\tensorflow\\lib\\site-packages\\urllib3\\connectionpool.py:858: InsecureRequestWarning: Unverified HTTPS request is being made. Adding certificate verification is strongly advised. See: https://urllib3.readthedocs.io/en/latest/advanced-usage.html#ssl-warnings\n",
      "  InsecureRequestWarning)\n",
      "C:\\Users\\surface\\Anaconda2\\envs\\tensorflow\\lib\\site-packages\\urllib3\\connectionpool.py:858: InsecureRequestWarning: Unverified HTTPS request is being made. Adding certificate verification is strongly advised. See: https://urllib3.readthedocs.io/en/latest/advanced-usage.html#ssl-warnings\n",
      "  InsecureRequestWarning)\n",
      "C:\\Users\\surface\\Anaconda2\\envs\\tensorflow\\lib\\site-packages\\urllib3\\connectionpool.py:858: InsecureRequestWarning: Unverified HTTPS request is being made. Adding certificate verification is strongly advised. See: https://urllib3.readthedocs.io/en/latest/advanced-usage.html#ssl-warnings\n",
      "  InsecureRequestWarning)\n",
      "C:\\Users\\surface\\Anaconda2\\envs\\tensorflow\\lib\\site-packages\\urllib3\\connectionpool.py:858: InsecureRequestWarning: Unverified HTTPS request is being made. Adding certificate verification is strongly advised. See: https://urllib3.readthedocs.io/en/latest/advanced-usage.html#ssl-warnings\n",
      "  InsecureRequestWarning)\n",
      "C:\\Users\\surface\\Anaconda2\\envs\\tensorflow\\lib\\site-packages\\urllib3\\connectionpool.py:858: InsecureRequestWarning: Unverified HTTPS request is being made. Adding certificate verification is strongly advised. See: https://urllib3.readthedocs.io/en/latest/advanced-usage.html#ssl-warnings\n",
      "  InsecureRequestWarning)\n",
      "C:\\Users\\surface\\Anaconda2\\envs\\tensorflow\\lib\\site-packages\\urllib3\\connectionpool.py:858: InsecureRequestWarning: Unverified HTTPS request is being made. Adding certificate verification is strongly advised. See: https://urllib3.readthedocs.io/en/latest/advanced-usage.html#ssl-warnings\n",
      "  InsecureRequestWarning)\n",
      "C:\\Users\\surface\\Anaconda2\\envs\\tensorflow\\lib\\site-packages\\urllib3\\connectionpool.py:858: InsecureRequestWarning: Unverified HTTPS request is being made. Adding certificate verification is strongly advised. See: https://urllib3.readthedocs.io/en/latest/advanced-usage.html#ssl-warnings\n",
      "  InsecureRequestWarning)\n",
      "C:\\Users\\surface\\Anaconda2\\envs\\tensorflow\\lib\\site-packages\\urllib3\\connectionpool.py:858: InsecureRequestWarning: Unverified HTTPS request is being made. Adding certificate verification is strongly advised. See: https://urllib3.readthedocs.io/en/latest/advanced-usage.html#ssl-warnings\n",
      "  InsecureRequestWarning)\n"
     ]
    }
   ],
   "source": [
    "p = Stock()\n",
    "# FTSE100 = [    \"AAL.L\",\"ABF.L\",\"ADM.L\",\"ADN.L\",\"AGK.L\",\"UU.L\",\"VED.L\",\"VOD.L\",\n",
    "#                \"AMEC.L\",\"ANTO.L\",\"ARM.L\",\"ASHM.L\",\"AV.L\",\n",
    "#                \"AZN.L\",\"BA.L\",\"BARC.L\",\"BATS.L\",\"BG.L\",\"BLND.L\",\n",
    "#                \"BLT.L\",\"BNZL.L\",\"BP.L\",\"BRBY.L\",\"BSY.L\",\"BT-A.L\",\n",
    "#                \"CCL.L\",\"CNA.L\",\"CPG.L\",\"CPI.L\",\"CRDA.L\",\"CRH.L\",\"CSCG.L\",\n",
    "#                \"DGE.L\",\"EMG.L\",\"ENRC.L\",\"EVR.L\",\"EXPN.L\",\"FRES.L\",\"GFS.L\",\n",
    "#                \"GKN.L\",\"GLEN.L\",\"GSK.L\",\"HL.L\",\"HMSO.L\",\"HSBA.L\",\"IAG.L\",\"IAP.L\",\n",
    "#                \"IHG.L\",\"IMI.L\",\"IMT.L\",\"IPR.L\",\"ITRK.L\",\"ITV.L\",\"JMAT.L\",\"KAZ.L\",\n",
    "#                \"KGF.L\",\"LAND.L\",\"LGEN.L\",\"LLOY.L\",\"MGGT.L\",\"MKS.L\",\"MRW.L\",\"NG.L\",\n",
    "#                \"NXT.L\",\"OML.L\",\"PFC.L\",\"POLY.L\",\"PRU.L\",\"PSON.L\",\"RB.L\",\"RBS.L\",\n",
    "#                \"RDSB.L\",\"REL.L\",\"REX.L\",\"RIO.L\",\"RR.L\",\"RRS.L\",\"RSA.L\",\"RSL.L\",\"SAB.L\",\n",
    "#                \"SBRY.L\",\"SDR.L\",\"SDRC.L\",\"SGE.L\",\"SHP.L\",\"SL.L\",\"SMIN.L\",\"SN.L\",\n",
    "#                \"SRP.L\",\"SSE.L\",\"STAN.L\",\"SVT.L\",\"TATE.L\",\"TLW.L\",\"TSCO.L\",\"ULVR.L\",\n",
    "#                \"WEIR.L\",\"WOS.L\",\"WPP.L\",\"WTB.L\",\"XTA.L\"]\n",
    "\n",
    "FTSE30 = [\"AAL.L\",\"ABF.L\",\"BA.L\",\"BATS.L\",\"BT.L\",\"BRBY.L\",\"CPG.L\",\"CCL.L\",\"CNA.L\",\n",
    "          \"DGE.L\",\"EXPN.L\",\"GKN.L\",\"GSK.L\",\"IAG.L\",\"ITV.L\",\"LAND.L\",\n",
    "         \"LLOY.L\",\"EMG.L\",\"MKS.L\",\"RB.L\",\"RBS.L\",\"RSA.L\",\"SMIN.L\",\"RIO.L\",\"RR.L\",\"SHP.L\",\n",
    "         \"TATE.L\",\"TSCO.L\",\"VOD.L\",\"WPP.L\",\"WTB.L\",\"XTA.L\"]\n",
    "stock_frame = p.stocks_daily_query(FTSE30)\n",
    "stock_frame = stock_frame.loc['2014-12-01':'2017-12-01',:]"
   ]
  },
  {
   "cell_type": "code",
   "execution_count": 5,
   "metadata": {
    "collapsed": false
   },
   "outputs": [],
   "source": [
    "import numpy as np\n",
    "# stock_frame\n",
    "# stock_frame.index[np.where(np.isnan(stock_frame))[0]]\n",
    "stock_frame.to_csv(\"FTSE30.csv\")"
   ]
  },
  {
   "cell_type": "code",
   "execution_count": null,
   "metadata": {
    "collapsed": true
   },
   "outputs": [],
   "source": []
  }
 ],
 "metadata": {
  "kernelspec": {
   "display_name": "Python 3",
   "language": "python",
   "name": "python3"
  },
  "language_info": {
   "codemirror_mode": {
    "name": "ipython",
    "version": 3
   },
   "file_extension": ".py",
   "mimetype": "text/x-python",
   "name": "python",
   "nbconvert_exporter": "python",
   "pygments_lexer": "ipython3",
   "version": "3.5.4"
  }
 },
 "nbformat": 4,
 "nbformat_minor": 0
}
